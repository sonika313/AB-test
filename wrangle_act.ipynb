{
 "cells": [
  {
   "cell_type": "markdown",
   "metadata": {},
   "source": [
    "## Project: Wrangle and Analyze Data\n",
    "\n",
    "### Introduction\n",
    "\n",
    "The objective of this project is to gather,assess and clean data from different data sources like twitter API, text file, excel file and formats like .csv,.tsv, json files.\n",
    "\n",
    "#### A. Gather Data from 3 different sources\n",
    "        twitter-archive-enhanced.csv\n",
    "        Image_predictions from URL\n",
    "        Twitter data using API-Tweepy\n",
    "#### B. Assess the Data\n",
    "        Note the observations\n",
    "#### C. Clean Data from 3 different sources   \n",
    "        Define\n",
    "        Code\n",
    "        Test\n",
    "#### Analyze and Visulaizations\n",
    "#### Conclusions"
   ]
  },
  {
   "cell_type": "markdown",
   "metadata": {},
   "source": [
    "##### 1.1 Gather data from twitter-archive-enhanced.csv"
   ]
  },
  {
   "cell_type": "code",
   "execution_count": 1,
   "metadata": {},
   "outputs": [
    {
     "name": "stdout",
     "output_type": "stream",
     "text": [
      "<class 'pandas.core.frame.DataFrame'>\n",
      "RangeIndex: 2356 entries, 0 to 2355\n",
      "Data columns (total 17 columns):\n",
      " #   Column                      Non-Null Count  Dtype  \n",
      "---  ------                      --------------  -----  \n",
      " 0   tweet_id                    2356 non-null   int64  \n",
      " 1   in_reply_to_status_id       78 non-null     float64\n",
      " 2   in_reply_to_user_id         78 non-null     float64\n",
      " 3   timestamp                   2356 non-null   object \n",
      " 4   source                      2356 non-null   object \n",
      " 5   text                        2356 non-null   object \n",
      " 6   retweeted_status_id         181 non-null    float64\n",
      " 7   retweeted_status_user_id    181 non-null    float64\n",
      " 8   retweeted_status_timestamp  181 non-null    object \n",
      " 9   expanded_urls               2297 non-null   object \n",
      " 10  rating_numerator            2356 non-null   int64  \n",
      " 11  rating_denominator          2356 non-null   int64  \n",
      " 12  name                        2356 non-null   object \n",
      " 13  doggo                       2356 non-null   object \n",
      " 14  floofer                     2356 non-null   object \n",
      " 15  pupper                      2356 non-null   object \n",
      " 16  puppo                       2356 non-null   object \n",
      "dtypes: float64(4), int64(3), object(10)\n",
      "memory usage: 313.0+ KB\n"
     ]
    }
   ],
   "source": [
    "import pandas as pd\n",
    "import os\n",
    "import numpy as np\n",
    "import requests\n",
    "import json\n",
    "\n",
    "twitter_archive=pd.read_csv(\"twitter-archive-enhanced.csv\")\n",
    "twitter_archive.info()\n"
   ]
  },
  {
   "cell_type": "markdown",
   "metadata": {},
   "source": [
    "### 2.1  Importing image predictions data"
   ]
  },
  {
   "cell_type": "code",
   "execution_count": 2,
   "metadata": {},
   "outputs": [
    {
     "name": "stdout",
     "output_type": "stream",
     "text": [
      "<class 'pandas.core.frame.DataFrame'>\n",
      "RangeIndex: 2075 entries, 0 to 2074\n",
      "Data columns (total 12 columns):\n",
      " #   Column    Non-Null Count  Dtype  \n",
      "---  ------    --------------  -----  \n",
      " 0   tweet_id  2075 non-null   int64  \n",
      " 1   jpg_url   2075 non-null   object \n",
      " 2   img_num   2075 non-null   int64  \n",
      " 3   p1        2075 non-null   object \n",
      " 4   p1_conf   2075 non-null   float64\n",
      " 5   p1_dog    2075 non-null   bool   \n",
      " 6   p2        2075 non-null   object \n",
      " 7   p2_conf   2075 non-null   float64\n",
      " 8   p2_dog    2075 non-null   bool   \n",
      " 9   p3        2075 non-null   object \n",
      " 10  p3_conf   2075 non-null   float64\n",
      " 11  p3_dog    2075 non-null   bool   \n",
      "dtypes: bool(3), float64(3), int64(2), object(4)\n",
      "memory usage: 152.1+ KB\n"
     ]
    }
   ],
   "source": [
    "url = 'https://d17h27t6h515a5.cloudfront.net/topher/2017/August/599fd2ad_image-predictions/image-predictions.tsv'\n",
    "\n",
    "response = requests.get(url)\n",
    "\n",
    "with open(\"image_predictions.tsv\", mode = 'wb') as outfile:\n",
    "    outfile.write(response.content)\n",
    "\n",
    "# Read the downloaded file into a dataframe 'images'\n",
    "image_data = pd.read_csv('image_predictions.tsv', sep = '\\t', encoding = 'utf-8')\n",
    "image_data.info()"
   ]
  },
  {
   "cell_type": "markdown",
   "metadata": {},
   "source": [
    "### 3.1 Importing Twitter data using Tweepy API-Jsons"
   ]
  },
  {
   "cell_type": "markdown",
   "metadata": {},
   "source": [
    "import tweepy\n",
    "from tweepy import OAuthHandler\n",
    "import json\n",
    "from timeit import default_timer as timer\n",
    "\n",
    "#### Query Twitter API for each tweet in the Twitter archive and save JSON in a text file\n",
    "#### These are hidden to comply with Twitter's API terms and conditions\n",
    "consumer_key = 'xxx'\n",
    "consumer_secret = 'xxx'\n",
    "access_token = 'xxx'\n",
    "access_secret = 'xxx'\n",
    "\n",
    "auth = OAuthHandler(consumer_key, consumer_secret)\n",
    "auth.set_access_token(access_token, access_secret)\n",
    "\n",
    "api = tweepy.API(auth, wait_on_rate_limit=True)\n",
    "\n",
    "tweet_ids = df_1.tweet_id.values\n",
    "len(tweet_ids)\n",
    "\n",
    "#### Query Twitter's API for JSON data for each tweet ID in the Twitter archive\n",
    "count = 0\n",
    "fails_dict = {}\n",
    "start = timer()\n",
    "#### Save each tweet's returned JSON as a new line in a .txt file\n",
    "with open('tweet_json.txt', 'w') as outfile:\n",
    "    # This loop will likely take 20-30 minutes to run because of Twitter's rate limit\n",
    "    for tweet_id in tweet_ids:\n",
    "        count += 1\n",
    "        print(str(count) + \": \" + str(tweet_id))\n",
    "        try:\n",
    "            tweet = api.get_status(tweet_id, tweet_mode='extended')\n",
    "            print(\"Success\")\n",
    "            json.dump(tweet._json, outfile)\n",
    "            outfile.write('\\n')\n",
    "        except tweepy.TweepError as e:\n",
    "            print(\"Fail\")\n",
    "            fails_dict[tweet_id] = e\n",
    "            pass\n",
    "end = timer()\n",
    "print(end - start)\n",
    "print(fails_dict)"
   ]
  },
  {
   "cell_type": "code",
   "execution_count": 3,
   "metadata": {},
   "outputs": [
    {
     "name": "stdout",
     "output_type": "stream",
     "text": [
      "<class 'pandas.core.frame.DataFrame'>\n",
      "RangeIndex: 2331 entries, 0 to 2330\n",
      "Data columns (total 3 columns):\n",
      " #   Column          Non-Null Count  Dtype \n",
      "---  ------          --------------  ----- \n",
      " 0   tweet_id        2331 non-null   object\n",
      " 1   retweet_count   2331 non-null   object\n",
      " 2   favorite_count  2331 non-null   object\n",
      "dtypes: object(3)\n",
      "memory usage: 54.8+ KB\n"
     ]
    }
   ],
   "source": [
    "twitter_json =pd.DataFrame(columns=['tweet_id','retweet_count','favorite_count'])\n",
    "with open('tweet_json.txt') as f:\n",
    "    for line in f:\n",
    "        status=json.loads(line)\n",
    "        tweet_id=status['id_str']\n",
    "        retweet_count=status['retweet_count']\n",
    "        favorite_count=status['favorite_count']\n",
    "        \n",
    "        \n",
    "        twitter_json=twitter_json.append(pd.DataFrame([[tweet_id, retweet_count, favorite_count]],\n",
    "                                      columns=['tweet_id','retweet_count','favorite_count']))\n",
    "twitter_json = twitter_json.reset_index(drop=True)\n",
    "twitter_json.info()"
   ]
  },
  {
   "cell_type": "code",
   "execution_count": 4,
   "metadata": {},
   "outputs": [],
   "source": [
    "df_twitter_archive=twitter_archive.copy()\n",
    "df_image_data=image_data.copy()\n",
    "df_twitter_json=twitter_json.copy()"
   ]
  },
  {
   "cell_type": "markdown",
   "metadata": {},
   "source": []
  },
  {
   "cell_type": "markdown",
   "metadata": {},
   "source": [
    "## B - Assessing the Data\n",
    ">Quality\n",
    "\n",
    ">Tidiness\n",
    "\n",
    "###### Quality Issues\n",
    "\n",
    "The 4 data quality dimensions:\n",
    "\n",
    "    -Completeness\n",
    "    -Validity\n",
    "    -Accuracy\n",
    "    -Consistency\n",
    "    \n",
    "###### Tidiness Issues\n",
    "\n",
    "\n",
    "The 3 requirements for tidiness:\n",
    "\n",
    "    -Each variable forms a column\n",
    "    -Each observation forms a row\n",
    "    -Each type of observational unit forms a table\n"
   ]
  },
  {
   "cell_type": "markdown",
   "metadata": {},
   "source": [
    "#### 1.2   Assess Data - df_twitter_archive"
   ]
  },
  {
   "cell_type": "code",
   "execution_count": 5,
   "metadata": {},
   "outputs": [
    {
     "name": "stdout",
     "output_type": "stream",
     "text": [
      "<class 'pandas.core.frame.DataFrame'>\n",
      "RangeIndex: 2356 entries, 0 to 2355\n",
      "Data columns (total 17 columns):\n",
      " #   Column                      Non-Null Count  Dtype  \n",
      "---  ------                      --------------  -----  \n",
      " 0   tweet_id                    2356 non-null   int64  \n",
      " 1   in_reply_to_status_id       78 non-null     float64\n",
      " 2   in_reply_to_user_id         78 non-null     float64\n",
      " 3   timestamp                   2356 non-null   object \n",
      " 4   source                      2356 non-null   object \n",
      " 5   text                        2356 non-null   object \n",
      " 6   retweeted_status_id         181 non-null    float64\n",
      " 7   retweeted_status_user_id    181 non-null    float64\n",
      " 8   retweeted_status_timestamp  181 non-null    object \n",
      " 9   expanded_urls               2297 non-null   object \n",
      " 10  rating_numerator            2356 non-null   int64  \n",
      " 11  rating_denominator          2356 non-null   int64  \n",
      " 12  name                        2356 non-null   object \n",
      " 13  doggo                       2356 non-null   object \n",
      " 14  floofer                     2356 non-null   object \n",
      " 15  pupper                      2356 non-null   object \n",
      " 16  puppo                       2356 non-null   object \n",
      "dtypes: float64(4), int64(3), object(10)\n",
      "memory usage: 313.0+ KB\n"
     ]
    }
   ],
   "source": [
    "df_twitter_archive.info()"
   ]
  },
  {
   "cell_type": "code",
   "execution_count": 6,
   "metadata": {},
   "outputs": [
    {
     "data": {
      "text/html": [
       "<div>\n",
       "<style scoped>\n",
       "    .dataframe tbody tr th:only-of-type {\n",
       "        vertical-align: middle;\n",
       "    }\n",
       "\n",
       "    .dataframe tbody tr th {\n",
       "        vertical-align: top;\n",
       "    }\n",
       "\n",
       "    .dataframe thead th {\n",
       "        text-align: right;\n",
       "    }\n",
       "</style>\n",
       "<table border=\"1\" class=\"dataframe\">\n",
       "  <thead>\n",
       "    <tr style=\"text-align: right;\">\n",
       "      <th></th>\n",
       "      <th>tweet_id</th>\n",
       "      <th>in_reply_to_status_id</th>\n",
       "      <th>in_reply_to_user_id</th>\n",
       "      <th>retweeted_status_id</th>\n",
       "      <th>retweeted_status_user_id</th>\n",
       "      <th>rating_numerator</th>\n",
       "      <th>rating_denominator</th>\n",
       "    </tr>\n",
       "  </thead>\n",
       "  <tbody>\n",
       "    <tr>\n",
       "      <th>count</th>\n",
       "      <td>2.356000e+03</td>\n",
       "      <td>7.800000e+01</td>\n",
       "      <td>7.800000e+01</td>\n",
       "      <td>1.810000e+02</td>\n",
       "      <td>1.810000e+02</td>\n",
       "      <td>2356.000000</td>\n",
       "      <td>2356.000000</td>\n",
       "    </tr>\n",
       "    <tr>\n",
       "      <th>mean</th>\n",
       "      <td>7.427716e+17</td>\n",
       "      <td>7.455079e+17</td>\n",
       "      <td>2.014171e+16</td>\n",
       "      <td>7.720400e+17</td>\n",
       "      <td>1.241698e+16</td>\n",
       "      <td>13.126486</td>\n",
       "      <td>10.455433</td>\n",
       "    </tr>\n",
       "    <tr>\n",
       "      <th>std</th>\n",
       "      <td>6.856705e+16</td>\n",
       "      <td>7.582492e+16</td>\n",
       "      <td>1.252797e+17</td>\n",
       "      <td>6.236928e+16</td>\n",
       "      <td>9.599254e+16</td>\n",
       "      <td>45.876648</td>\n",
       "      <td>6.745237</td>\n",
       "    </tr>\n",
       "    <tr>\n",
       "      <th>min</th>\n",
       "      <td>6.660209e+17</td>\n",
       "      <td>6.658147e+17</td>\n",
       "      <td>1.185634e+07</td>\n",
       "      <td>6.661041e+17</td>\n",
       "      <td>7.832140e+05</td>\n",
       "      <td>0.000000</td>\n",
       "      <td>0.000000</td>\n",
       "    </tr>\n",
       "    <tr>\n",
       "      <th>25%</th>\n",
       "      <td>6.783989e+17</td>\n",
       "      <td>6.757419e+17</td>\n",
       "      <td>3.086374e+08</td>\n",
       "      <td>7.186315e+17</td>\n",
       "      <td>4.196984e+09</td>\n",
       "      <td>10.000000</td>\n",
       "      <td>10.000000</td>\n",
       "    </tr>\n",
       "    <tr>\n",
       "      <th>50%</th>\n",
       "      <td>7.196279e+17</td>\n",
       "      <td>7.038708e+17</td>\n",
       "      <td>4.196984e+09</td>\n",
       "      <td>7.804657e+17</td>\n",
       "      <td>4.196984e+09</td>\n",
       "      <td>11.000000</td>\n",
       "      <td>10.000000</td>\n",
       "    </tr>\n",
       "    <tr>\n",
       "      <th>75%</th>\n",
       "      <td>7.993373e+17</td>\n",
       "      <td>8.257804e+17</td>\n",
       "      <td>4.196984e+09</td>\n",
       "      <td>8.203146e+17</td>\n",
       "      <td>4.196984e+09</td>\n",
       "      <td>12.000000</td>\n",
       "      <td>10.000000</td>\n",
       "    </tr>\n",
       "    <tr>\n",
       "      <th>max</th>\n",
       "      <td>8.924206e+17</td>\n",
       "      <td>8.862664e+17</td>\n",
       "      <td>8.405479e+17</td>\n",
       "      <td>8.874740e+17</td>\n",
       "      <td>7.874618e+17</td>\n",
       "      <td>1776.000000</td>\n",
       "      <td>170.000000</td>\n",
       "    </tr>\n",
       "  </tbody>\n",
       "</table>\n",
       "</div>"
      ],
      "text/plain": [
       "           tweet_id  in_reply_to_status_id  in_reply_to_user_id  \\\n",
       "count  2.356000e+03           7.800000e+01         7.800000e+01   \n",
       "mean   7.427716e+17           7.455079e+17         2.014171e+16   \n",
       "std    6.856705e+16           7.582492e+16         1.252797e+17   \n",
       "min    6.660209e+17           6.658147e+17         1.185634e+07   \n",
       "25%    6.783989e+17           6.757419e+17         3.086374e+08   \n",
       "50%    7.196279e+17           7.038708e+17         4.196984e+09   \n",
       "75%    7.993373e+17           8.257804e+17         4.196984e+09   \n",
       "max    8.924206e+17           8.862664e+17         8.405479e+17   \n",
       "\n",
       "       retweeted_status_id  retweeted_status_user_id  rating_numerator  \\\n",
       "count         1.810000e+02              1.810000e+02       2356.000000   \n",
       "mean          7.720400e+17              1.241698e+16         13.126486   \n",
       "std           6.236928e+16              9.599254e+16         45.876648   \n",
       "min           6.661041e+17              7.832140e+05          0.000000   \n",
       "25%           7.186315e+17              4.196984e+09         10.000000   \n",
       "50%           7.804657e+17              4.196984e+09         11.000000   \n",
       "75%           8.203146e+17              4.196984e+09         12.000000   \n",
       "max           8.874740e+17              7.874618e+17       1776.000000   \n",
       "\n",
       "       rating_denominator  \n",
       "count         2356.000000  \n",
       "mean            10.455433  \n",
       "std              6.745237  \n",
       "min              0.000000  \n",
       "25%             10.000000  \n",
       "50%             10.000000  \n",
       "75%             10.000000  \n",
       "max            170.000000  "
      ]
     },
     "execution_count": 6,
     "metadata": {},
     "output_type": "execute_result"
    }
   ],
   "source": [
    "df_twitter_archive.describe()"
   ]
  },
  {
   "cell_type": "code",
   "execution_count": 7,
   "metadata": {},
   "outputs": [
    {
     "data": {
      "text/html": [
       "<div>\n",
       "<style scoped>\n",
       "    .dataframe tbody tr th:only-of-type {\n",
       "        vertical-align: middle;\n",
       "    }\n",
       "\n",
       "    .dataframe tbody tr th {\n",
       "        vertical-align: top;\n",
       "    }\n",
       "\n",
       "    .dataframe thead th {\n",
       "        text-align: right;\n",
       "    }\n",
       "</style>\n",
       "<table border=\"1\" class=\"dataframe\">\n",
       "  <thead>\n",
       "    <tr style=\"text-align: right;\">\n",
       "      <th></th>\n",
       "      <th>tweet_id</th>\n",
       "      <th>in_reply_to_status_id</th>\n",
       "      <th>in_reply_to_user_id</th>\n",
       "      <th>timestamp</th>\n",
       "      <th>source</th>\n",
       "      <th>text</th>\n",
       "      <th>retweeted_status_id</th>\n",
       "      <th>retweeted_status_user_id</th>\n",
       "      <th>retweeted_status_timestamp</th>\n",
       "      <th>expanded_urls</th>\n",
       "      <th>rating_numerator</th>\n",
       "      <th>rating_denominator</th>\n",
       "      <th>name</th>\n",
       "      <th>doggo</th>\n",
       "      <th>floofer</th>\n",
       "      <th>pupper</th>\n",
       "      <th>puppo</th>\n",
       "    </tr>\n",
       "  </thead>\n",
       "  <tbody>\n",
       "    <tr>\n",
       "      <th>1964</th>\n",
       "      <td>673350198937153538</td>\n",
       "      <td>NaN</td>\n",
       "      <td>NaN</td>\n",
       "      <td>2015-12-06 03:56:12 +0000</td>\n",
       "      <td>&lt;a href=\"http://twitter.com/download/iphone\" r...</td>\n",
       "      <td>This is Bella. She's a Genghis Flopped Canuck....</td>\n",
       "      <td>NaN</td>\n",
       "      <td>NaN</td>\n",
       "      <td>NaN</td>\n",
       "      <td>https://twitter.com/dog_rates/status/673350198...</td>\n",
       "      <td>9</td>\n",
       "      <td>10</td>\n",
       "      <td>Bella</td>\n",
       "      <td>None</td>\n",
       "      <td>None</td>\n",
       "      <td>None</td>\n",
       "      <td>None</td>\n",
       "    </tr>\n",
       "    <tr>\n",
       "      <th>1507</th>\n",
       "      <td>691675652215414786</td>\n",
       "      <td>NaN</td>\n",
       "      <td>NaN</td>\n",
       "      <td>2016-01-25 17:35:00 +0000</td>\n",
       "      <td>&lt;a href=\"http://twitter.com/download/iphone\" r...</td>\n",
       "      <td>This is Richie and Plip. They are the best of ...</td>\n",
       "      <td>NaN</td>\n",
       "      <td>NaN</td>\n",
       "      <td>NaN</td>\n",
       "      <td>https://twitter.com/dog_rates/status/691675652...</td>\n",
       "      <td>10</td>\n",
       "      <td>10</td>\n",
       "      <td>Richie</td>\n",
       "      <td>None</td>\n",
       "      <td>None</td>\n",
       "      <td>None</td>\n",
       "      <td>None</td>\n",
       "    </tr>\n",
       "    <tr>\n",
       "      <th>1163</th>\n",
       "      <td>723673163800948736</td>\n",
       "      <td>NaN</td>\n",
       "      <td>NaN</td>\n",
       "      <td>2016-04-23 00:41:42 +0000</td>\n",
       "      <td>&lt;a href=\"http://twitter.com/download/iphone\" r...</td>\n",
       "      <td>This is Ivar. She is a badass Viking warrior. ...</td>\n",
       "      <td>NaN</td>\n",
       "      <td>NaN</td>\n",
       "      <td>NaN</td>\n",
       "      <td>https://twitter.com/dog_rates/status/723673163...</td>\n",
       "      <td>10</td>\n",
       "      <td>10</td>\n",
       "      <td>Ivar</td>\n",
       "      <td>None</td>\n",
       "      <td>None</td>\n",
       "      <td>None</td>\n",
       "      <td>None</td>\n",
       "    </tr>\n",
       "    <tr>\n",
       "      <th>415</th>\n",
       "      <td>822647212903690241</td>\n",
       "      <td>NaN</td>\n",
       "      <td>NaN</td>\n",
       "      <td>2017-01-21 03:29:14 +0000</td>\n",
       "      <td>&lt;a href=\"http://twitter.com/download/iphone\" r...</td>\n",
       "      <td>RT @dog_rates: This is Paisley. She really wan...</td>\n",
       "      <td>8.224891e+17</td>\n",
       "      <td>4.196984e+09</td>\n",
       "      <td>2017-01-20 17:00:46 +0000</td>\n",
       "      <td>https://twitter.com/dog_rates/status/822489057...</td>\n",
       "      <td>13</td>\n",
       "      <td>10</td>\n",
       "      <td>Paisley</td>\n",
       "      <td>None</td>\n",
       "      <td>None</td>\n",
       "      <td>None</td>\n",
       "      <td>None</td>\n",
       "    </tr>\n",
       "    <tr>\n",
       "      <th>872</th>\n",
       "      <td>761371037149827077</td>\n",
       "      <td>NaN</td>\n",
       "      <td>NaN</td>\n",
       "      <td>2016-08-05 01:19:35 +0000</td>\n",
       "      <td>&lt;a href=\"http://twitter.com/download/iphone\" r...</td>\n",
       "      <td>RT @dog_rates: Oh. My. God. 13/10 magical af h...</td>\n",
       "      <td>7.116948e+17</td>\n",
       "      <td>4.196984e+09</td>\n",
       "      <td>2016-03-20 23:23:54 +0000</td>\n",
       "      <td>https://twitter.com/dog_rates/status/711694788...</td>\n",
       "      <td>13</td>\n",
       "      <td>10</td>\n",
       "      <td>None</td>\n",
       "      <td>None</td>\n",
       "      <td>None</td>\n",
       "      <td>None</td>\n",
       "      <td>None</td>\n",
       "    </tr>\n",
       "  </tbody>\n",
       "</table>\n",
       "</div>"
      ],
      "text/plain": [
       "                tweet_id  in_reply_to_status_id  in_reply_to_user_id  \\\n",
       "1964  673350198937153538                    NaN                  NaN   \n",
       "1507  691675652215414786                    NaN                  NaN   \n",
       "1163  723673163800948736                    NaN                  NaN   \n",
       "415   822647212903690241                    NaN                  NaN   \n",
       "872   761371037149827077                    NaN                  NaN   \n",
       "\n",
       "                      timestamp  \\\n",
       "1964  2015-12-06 03:56:12 +0000   \n",
       "1507  2016-01-25 17:35:00 +0000   \n",
       "1163  2016-04-23 00:41:42 +0000   \n",
       "415   2017-01-21 03:29:14 +0000   \n",
       "872   2016-08-05 01:19:35 +0000   \n",
       "\n",
       "                                                 source  \\\n",
       "1964  <a href=\"http://twitter.com/download/iphone\" r...   \n",
       "1507  <a href=\"http://twitter.com/download/iphone\" r...   \n",
       "1163  <a href=\"http://twitter.com/download/iphone\" r...   \n",
       "415   <a href=\"http://twitter.com/download/iphone\" r...   \n",
       "872   <a href=\"http://twitter.com/download/iphone\" r...   \n",
       "\n",
       "                                                   text  retweeted_status_id  \\\n",
       "1964  This is Bella. She's a Genghis Flopped Canuck....                  NaN   \n",
       "1507  This is Richie and Plip. They are the best of ...                  NaN   \n",
       "1163  This is Ivar. She is a badass Viking warrior. ...                  NaN   \n",
       "415   RT @dog_rates: This is Paisley. She really wan...         8.224891e+17   \n",
       "872   RT @dog_rates: Oh. My. God. 13/10 magical af h...         7.116948e+17   \n",
       "\n",
       "      retweeted_status_user_id retweeted_status_timestamp  \\\n",
       "1964                       NaN                        NaN   \n",
       "1507                       NaN                        NaN   \n",
       "1163                       NaN                        NaN   \n",
       "415               4.196984e+09  2017-01-20 17:00:46 +0000   \n",
       "872               4.196984e+09  2016-03-20 23:23:54 +0000   \n",
       "\n",
       "                                          expanded_urls  rating_numerator  \\\n",
       "1964  https://twitter.com/dog_rates/status/673350198...                 9   \n",
       "1507  https://twitter.com/dog_rates/status/691675652...                10   \n",
       "1163  https://twitter.com/dog_rates/status/723673163...                10   \n",
       "415   https://twitter.com/dog_rates/status/822489057...                13   \n",
       "872   https://twitter.com/dog_rates/status/711694788...                13   \n",
       "\n",
       "      rating_denominator     name doggo floofer pupper puppo  \n",
       "1964                  10    Bella  None    None   None  None  \n",
       "1507                  10   Richie  None    None   None  None  \n",
       "1163                  10     Ivar  None    None   None  None  \n",
       "415                   10  Paisley  None    None   None  None  \n",
       "872                   10     None  None    None   None  None  "
      ]
     },
     "execution_count": 7,
     "metadata": {},
     "output_type": "execute_result"
    }
   ],
   "source": [
    "df_twitter_archive.sample(5)"
   ]
  },
  {
   "cell_type": "code",
   "execution_count": 8,
   "metadata": {},
   "outputs": [
    {
     "data": {
      "text/plain": [
       "0"
      ]
     },
     "execution_count": 8,
     "metadata": {},
     "output_type": "execute_result"
    }
   ],
   "source": [
    "df_twitter_archive.tweet_id.duplicated().sum()"
   ]
  },
  {
   "cell_type": "code",
   "execution_count": 9,
   "metadata": {},
   "outputs": [
    {
     "data": {
      "text/plain": [
       "12      558\n",
       "11      464\n",
       "10      461\n",
       "13      351\n",
       "9       158\n",
       "8       102\n",
       "7        55\n",
       "14       54\n",
       "5        37\n",
       "6        32\n",
       "3        19\n",
       "4        17\n",
       "1         9\n",
       "2         9\n",
       "420       2\n",
       "0         2\n",
       "15        2\n",
       "75        2\n",
       "80        1\n",
       "20        1\n",
       "24        1\n",
       "26        1\n",
       "44        1\n",
       "50        1\n",
       "60        1\n",
       "165       1\n",
       "84        1\n",
       "88        1\n",
       "144       1\n",
       "182       1\n",
       "143       1\n",
       "666       1\n",
       "960       1\n",
       "1776      1\n",
       "17        1\n",
       "27        1\n",
       "45        1\n",
       "99        1\n",
       "121       1\n",
       "204       1\n",
       "Name: rating_numerator, dtype: int64"
      ]
     },
     "execution_count": 9,
     "metadata": {},
     "output_type": "execute_result"
    }
   ],
   "source": [
    "df_twitter_archive.rating_numerator.value_counts()"
   ]
  },
  {
   "cell_type": "code",
   "execution_count": 10,
   "metadata": {},
   "outputs": [
    {
     "data": {
      "text/plain": [
       "10     2333\n",
       "11        3\n",
       "50        3\n",
       "80        2\n",
       "20        2\n",
       "2         1\n",
       "16        1\n",
       "40        1\n",
       "70        1\n",
       "15        1\n",
       "90        1\n",
       "110       1\n",
       "120       1\n",
       "130       1\n",
       "150       1\n",
       "170       1\n",
       "7         1\n",
       "0         1\n",
       "Name: rating_denominator, dtype: int64"
      ]
     },
     "execution_count": 10,
     "metadata": {},
     "output_type": "execute_result"
    }
   ],
   "source": [
    "df_twitter_archive.rating_denominator.value_counts()"
   ]
  },
  {
   "cell_type": "code",
   "execution_count": 11,
   "metadata": {},
   "outputs": [
    {
     "data": {
      "text/plain": [
       "None     2259\n",
       "doggo      97\n",
       "Name: doggo, dtype: int64"
      ]
     },
     "execution_count": 11,
     "metadata": {},
     "output_type": "execute_result"
    }
   ],
   "source": [
    "df_twitter_archive.doggo.value_counts()"
   ]
  },
  {
   "cell_type": "code",
   "execution_count": 12,
   "metadata": {},
   "outputs": [
    {
     "data": {
      "text/plain": [
       "None     2326\n",
       "puppo      30\n",
       "Name: puppo, dtype: int64"
      ]
     },
     "execution_count": 12,
     "metadata": {},
     "output_type": "execute_result"
    }
   ],
   "source": [
    "df_twitter_archive.puppo.value_counts()"
   ]
  },
  {
   "cell_type": "code",
   "execution_count": 13,
   "metadata": {},
   "outputs": [
    {
     "data": {
      "text/plain": [
       "None       2346\n",
       "floofer      10\n",
       "Name: floofer, dtype: int64"
      ]
     },
     "execution_count": 13,
     "metadata": {},
     "output_type": "execute_result"
    }
   ],
   "source": [
    "df_twitter_archive.floofer.value_counts()"
   ]
  },
  {
   "cell_type": "code",
   "execution_count": 14,
   "metadata": {},
   "outputs": [
    {
     "data": {
      "text/plain": [
       "None      2099\n",
       "pupper     257\n",
       "Name: pupper, dtype: int64"
      ]
     },
     "execution_count": 14,
     "metadata": {},
     "output_type": "execute_result"
    }
   ],
   "source": [
    "df_twitter_archive.pupper.value_counts()"
   ]
  },
  {
   "cell_type": "markdown",
   "metadata": {},
   "source": [
    "##### 1.21 Observation of df_twitter_archive \n",
    ">Quality Issues-\n",
    "\n",
    "Completeness:\n",
    "\n",
    "    missing data in the following columns:\n",
    "        in_reply_to_status_id, \n",
    "        in_reply_to_user_id, \n",
    "        retweeted_status_id, \n",
    "        retweeted_status_user_id, \n",
    "        retweeted_status_timestamp, \n",
    "        expanded_urls\n",
    "        \n",
    "    tweet_id is an int datatype\n",
    "    timestamp is an object\n",
    "    \n",
    "Validity:\n",
    "\n",
    "    dog names: some dogs have 'None' as a name, or 'a', or 'an.'\n",
    "    this dataset includes retweets, which means there is duplicated data (as a result, these columns will be empty:\n",
    "        retweeted_status_id, \n",
    "        retweeted_status_user_id and \n",
    "        retweeted_status_timestamp\n",
    "    \n",
    "Accuracy:\n",
    "\n",
    "    retweeted_status_timestamp is also an object (the other retweeted statuses are floats)\n",
    "    rating_numerator goes above 2000\n",
    "    \n",
    "Consistency:\n",
    "\n",
    "    rating_denominator should be a standard 10, but there are a multitude of other values\n",
    "    the source column still has the HTML tags\n",
    "    \n",
    ">Tidiness Issues-\n",
    "\n",
    "    The last four columns all relate to the same variable (dogoo, floofer, pupper, puppo)\n",
    "    "
   ]
  },
  {
   "cell_type": "markdown",
   "metadata": {},
   "source": [
    "##### 1.3 Clean the data and test - df_twitter_archive"
   ]
  },
  {
   "cell_type": "code",
   "execution_count": 15,
   "metadata": {},
   "outputs": [],
   "source": [
    "# copy the data to df\n",
    "\n",
    "df=df_twitter_archive.copy()"
   ]
  },
  {
   "cell_type": "code",
   "execution_count": 16,
   "metadata": {},
   "outputs": [],
   "source": [
    "#Define: Change the tweet_id data type to string\n",
    "\n",
    "#code\n",
    "df['tweet_id']=df['tweet_id'].astype(str)\n"
   ]
  },
  {
   "cell_type": "code",
   "execution_count": 17,
   "metadata": {},
   "outputs": [
    {
     "data": {
      "text/plain": [
       "dtype('O')"
      ]
     },
     "execution_count": 17,
     "metadata": {},
     "output_type": "execute_result"
    }
   ],
   "source": [
    "#test\n",
    "df['tweet_id'].dtype"
   ]
  },
  {
   "cell_type": "code",
   "execution_count": 18,
   "metadata": {},
   "outputs": [],
   "source": [
    "#Define: change the timestamp data type to timestamp\n",
    "\n",
    "#code\n",
    "df['timestamp'] = df['timestamp'].str.slice(start=0, stop=-6)\n",
    "df['timestamp']=pd.to_datetime(df['timestamp'])"
   ]
  },
  {
   "cell_type": "code",
   "execution_count": 19,
   "metadata": {},
   "outputs": [
    {
     "data": {
      "text/plain": [
       "dtype('<M8[ns]')"
      ]
     },
     "execution_count": 19,
     "metadata": {},
     "output_type": "execute_result"
    }
   ],
   "source": [
    "#test\n",
    "df['timestamp'].dtype"
   ]
  },
  {
   "cell_type": "code",
   "execution_count": 20,
   "metadata": {},
   "outputs": [],
   "source": [
    "# Define: Delete retweets \n",
    "\n",
    "#code\n",
    "df = df[np.isnan(df.retweeted_status_id)]\n"
   ]
  },
  {
   "cell_type": "code",
   "execution_count": 21,
   "metadata": {},
   "outputs": [
    {
     "name": "stdout",
     "output_type": "stream",
     "text": [
      "<class 'pandas.core.frame.DataFrame'>\n",
      "Int64Index: 2175 entries, 0 to 2355\n",
      "Data columns (total 17 columns):\n",
      " #   Column                      Non-Null Count  Dtype         \n",
      "---  ------                      --------------  -----         \n",
      " 0   tweet_id                    2175 non-null   object        \n",
      " 1   in_reply_to_status_id       78 non-null     float64       \n",
      " 2   in_reply_to_user_id         78 non-null     float64       \n",
      " 3   timestamp                   2175 non-null   datetime64[ns]\n",
      " 4   source                      2175 non-null   object        \n",
      " 5   text                        2175 non-null   object        \n",
      " 6   retweeted_status_id         0 non-null      float64       \n",
      " 7   retweeted_status_user_id    0 non-null      float64       \n",
      " 8   retweeted_status_timestamp  0 non-null      object        \n",
      " 9   expanded_urls               2117 non-null   object        \n",
      " 10  rating_numerator            2175 non-null   int64         \n",
      " 11  rating_denominator          2175 non-null   int64         \n",
      " 12  name                        2175 non-null   object        \n",
      " 13  doggo                       2175 non-null   object        \n",
      " 14  floofer                     2175 non-null   object        \n",
      " 15  pupper                      2175 non-null   object        \n",
      " 16  puppo                       2175 non-null   object        \n",
      "dtypes: datetime64[ns](1), float64(4), int64(2), object(10)\n",
      "memory usage: 305.9+ KB\n"
     ]
    }
   ],
   "source": [
    "#test\n",
    "df.info()"
   ]
  },
  {
   "cell_type": "code",
   "execution_count": 22,
   "metadata": {
    "scrolled": true
   },
   "outputs": [
    {
     "name": "stdout",
     "output_type": "stream",
     "text": [
      "<class 'pandas.core.frame.DataFrame'>\n",
      "Int64Index: 2175 entries, 0 to 2355\n",
      "Data columns (total 14 columns):\n",
      " #   Column                 Non-Null Count  Dtype         \n",
      "---  ------                 --------------  -----         \n",
      " 0   tweet_id               2175 non-null   object        \n",
      " 1   in_reply_to_status_id  78 non-null     float64       \n",
      " 2   in_reply_to_user_id    78 non-null     float64       \n",
      " 3   timestamp              2175 non-null   datetime64[ns]\n",
      " 4   source                 2175 non-null   object        \n",
      " 5   text                   2175 non-null   object        \n",
      " 6   expanded_urls          2117 non-null   object        \n",
      " 7   rating_numerator       2175 non-null   int64         \n",
      " 8   rating_denominator     2175 non-null   int64         \n",
      " 9   name                   2175 non-null   object        \n",
      " 10  doggo                  2175 non-null   object        \n",
      " 11  floofer                2175 non-null   object        \n",
      " 12  pupper                 2175 non-null   object        \n",
      " 13  puppo                  2175 non-null   object        \n",
      "dtypes: datetime64[ns](1), float64(2), int64(2), object(9)\n",
      "memory usage: 254.9+ KB\n"
     ]
    }
   ],
   "source": [
    "# Define: drop columns retweeted_status_id, retweeted_status_user_id and retweeted_status_timestamp\n",
    "\n",
    "#code\n",
    "df.drop(columns=['retweeted_status_id','retweeted_status_user_id','retweeted_status_timestamp'],axis=1,inplace=True)\n",
    "\n",
    "#test\n",
    "df.info()"
   ]
  },
  {
   "cell_type": "code",
   "execution_count": 23,
   "metadata": {},
   "outputs": [
    {
     "name": "stdout",
     "output_type": "stream",
     "text": [
      "<class 'pandas.core.frame.DataFrame'>\n",
      "Int64Index: 2175 entries, 0 to 2355\n",
      "Data columns (total 14 columns):\n",
      " #   Column                 Non-Null Count  Dtype         \n",
      "---  ------                 --------------  -----         \n",
      " 0   tweet_id               2175 non-null   object        \n",
      " 1   in_reply_to_status_id  78 non-null     float64       \n",
      " 2   in_reply_to_user_id    78 non-null     float64       \n",
      " 3   timestamp              2175 non-null   datetime64[ns]\n",
      " 4   source                 2175 non-null   object        \n",
      " 5   text                   2175 non-null   object        \n",
      " 6   expanded_urls          2117 non-null   object        \n",
      " 7   rating_numerator       2175 non-null   float64       \n",
      " 8   rating_denominator     2175 non-null   float64       \n",
      " 9   name                   2175 non-null   object        \n",
      " 10  doggo                  2175 non-null   object        \n",
      " 11  floofer                2175 non-null   object        \n",
      " 12  pupper                 2175 non-null   object        \n",
      " 13  puppo                  2175 non-null   object        \n",
      "dtypes: datetime64[ns](1), float64(4), object(9)\n",
      "memory usage: 254.9+ KB\n"
     ]
    }
   ],
   "source": [
    "#Define: change the date type o 'rating_numerator' and 'rating_denominator' to float\n",
    "#code \n",
    "\n",
    "df['rating_numerator'] = df['rating_numerator'].astype(float)\n",
    "\n",
    "df['rating_denominator'] = df['rating_denominator'].astype(float)\n",
    "\n",
    "#test\n",
    "df.info()"
   ]
  },
  {
   "cell_type": "code",
   "execution_count": 24,
   "metadata": {},
   "outputs": [
    {
     "data": {
      "text/plain": [
       "None       784\n",
       "Lucy        11\n",
       "Charlie     11\n",
       "Cooper      10\n",
       "Oliver      10\n",
       "          ... \n",
       "Stu          1\n",
       "Leonard      1\n",
       "Furzey       1\n",
       "Jaycob       1\n",
       "Tedders      1\n",
       "Name: name, Length: 931, dtype: int64"
      ]
     },
     "execution_count": 24,
     "metadata": {},
     "output_type": "execute_result"
    }
   ],
   "source": [
    "#Define: correcting name\n",
    "\n",
    "#code\n",
    "df.name = df.name.str.replace('^[a-z]+', 'None')\n",
    "\n",
    "#test\n",
    "df.name.value_counts()"
   ]
  },
  {
   "cell_type": "code",
   "execution_count": 25,
   "metadata": {},
   "outputs": [
    {
     "name": "stdout",
     "output_type": "stream",
     "text": [
      "<class 'pandas.core.frame.DataFrame'>\n",
      "Int64Index: 2175 entries, 0 to 2355\n",
      "Data columns (total 11 columns):\n",
      " #   Column              Non-Null Count  Dtype         \n",
      "---  ------              --------------  -----         \n",
      " 0   tweet_id            2175 non-null   object        \n",
      " 1   timestamp           2175 non-null   datetime64[ns]\n",
      " 2   text                2175 non-null   object        \n",
      " 3   expanded_urls       2117 non-null   object        \n",
      " 4   rating_numerator    2175 non-null   float64       \n",
      " 5   rating_denominator  2175 non-null   float64       \n",
      " 6   name                2175 non-null   object        \n",
      " 7   doggo               2175 non-null   object        \n",
      " 8   floofer             2175 non-null   object        \n",
      " 9   pupper              2175 non-null   object        \n",
      " 10  puppo               2175 non-null   object        \n",
      "dtypes: datetime64[ns](1), float64(2), object(8)\n",
      "memory usage: 203.9+ KB\n"
     ]
    }
   ],
   "source": [
    "#Define: dropping columns 'in_reply_to_status_id','in_reply_to_user_id','source'\n",
    "\n",
    "#code\n",
    "df.drop(['in_reply_to_status_id','in_reply_to_user_id','source'], axis = 1, inplace=True)\n",
    "\n",
    "#test\n",
    "\n",
    "df.info()"
   ]
  },
  {
   "cell_type": "code",
   "execution_count": 26,
   "metadata": {},
   "outputs": [
    {
     "data": {
      "text/plain": [
       "                  1831\n",
       "pupper             224\n",
       "doggo               75\n",
       "puppo               24\n",
       "doggo, pupper       10\n",
       "floofer              9\n",
       "doggo, floofer       1\n",
       "doggo, puppo         1\n",
       "Name: dog_stage, dtype: int64"
      ]
     },
     "execution_count": 26,
     "metadata": {},
     "output_type": "execute_result"
    }
   ],
   "source": [
    "#Define: creating a new column='dog_stage' and combing data from doggo, floofer, pupper, Puppo to it.\n",
    "\n",
    "#code\n",
    "df['doggo'].replace('None', '', inplace=True)\n",
    "df['floofer'].replace('None', '', inplace=True)\n",
    "df['pupper'].replace('None', '', inplace=True)\n",
    "df['puppo'].replace('None', '', inplace=True)\n",
    "\n",
    "df['dog_stage'] = df.text.str.extract('(doggo|floofer|pupper|puppo)', expand = True)\n",
    "\n",
    "df['dog_stage'] = df.doggo + df.floofer + df.pupper + df.puppo\n",
    "df.loc[df.dog_stage == 'doggopupper', 'dog_stage'] = 'doggo, pupper'\n",
    "df.loc[df.dog_stage == 'doggopuppo', 'dog_stage'] = 'doggo, puppo'\n",
    "df.loc[df.dog_stage == 'doggofloofer', 'dog_stage'] = 'doggo, floofer'\n",
    "\n",
    "#test\n",
    "df['dog_stage'].value_counts()"
   ]
  },
  {
   "cell_type": "code",
   "execution_count": 27,
   "metadata": {},
   "outputs": [],
   "source": [
    "#Define: dropping columns doggo, floofer, pupper, Puppo\n",
    "#code\n",
    "df.drop(columns=['doggo','pupper','floofer','puppo'],inplace=True)"
   ]
  },
  {
   "cell_type": "code",
   "execution_count": 28,
   "metadata": {},
   "outputs": [
    {
     "name": "stdout",
     "output_type": "stream",
     "text": [
      "<class 'pandas.core.frame.DataFrame'>\n",
      "Int64Index: 2175 entries, 0 to 2355\n",
      "Data columns (total 8 columns):\n",
      " #   Column              Non-Null Count  Dtype         \n",
      "---  ------              --------------  -----         \n",
      " 0   tweet_id            2175 non-null   object        \n",
      " 1   timestamp           2175 non-null   datetime64[ns]\n",
      " 2   text                2175 non-null   object        \n",
      " 3   expanded_urls       2117 non-null   object        \n",
      " 4   rating_numerator    2175 non-null   float64       \n",
      " 5   rating_denominator  2175 non-null   float64       \n",
      " 6   name                2175 non-null   object        \n",
      " 7   dog_stage           2175 non-null   object        \n",
      "dtypes: datetime64[ns](1), float64(2), object(5)\n",
      "memory usage: 152.9+ KB\n"
     ]
    }
   ],
   "source": [
    "#test\n",
    "df.info()"
   ]
  },
  {
   "cell_type": "markdown",
   "metadata": {},
   "source": [
    "##### 2.2  Asess: df_image_data\n",
    "\n",
    "Validity:\n",
    "\n",
    "    p1, p2 and p3 columns have invalid data\n",
    "\n",
    "Consistency:\n",
    "\n",
    "    p1, p2 and p3 columns aren't consistent when it comes to capitalization: \n",
    "    sometimes the dog breed listed is all lowercase, sometimes it is written in Sentence Case.\n",
    "    p1, p2 and p3 columns there is an underscore for multi-word dog breeds\n",
    "    \n",
    "tidiness:\n",
    "\n",
    "    this data set is part of the same observational unit as the data in the df_twitter_archive - one table with all basic information about the dog ratings"
   ]
  },
  {
   "cell_type": "code",
   "execution_count": 29,
   "metadata": {},
   "outputs": [
    {
     "name": "stdout",
     "output_type": "stream",
     "text": [
      "<class 'pandas.core.frame.DataFrame'>\n",
      "RangeIndex: 2075 entries, 0 to 2074\n",
      "Data columns (total 12 columns):\n",
      " #   Column    Non-Null Count  Dtype  \n",
      "---  ------    --------------  -----  \n",
      " 0   tweet_id  2075 non-null   int64  \n",
      " 1   jpg_url   2075 non-null   object \n",
      " 2   img_num   2075 non-null   int64  \n",
      " 3   p1        2075 non-null   object \n",
      " 4   p1_conf   2075 non-null   float64\n",
      " 5   p1_dog    2075 non-null   bool   \n",
      " 6   p2        2075 non-null   object \n",
      " 7   p2_conf   2075 non-null   float64\n",
      " 8   p2_dog    2075 non-null   bool   \n",
      " 9   p3        2075 non-null   object \n",
      " 10  p3_conf   2075 non-null   float64\n",
      " 11  p3_dog    2075 non-null   bool   \n",
      "dtypes: bool(3), float64(3), int64(2), object(4)\n",
      "memory usage: 152.1+ KB\n"
     ]
    }
   ],
   "source": [
    "df_image_data.info()"
   ]
  },
  {
   "cell_type": "code",
   "execution_count": 30,
   "metadata": {
    "scrolled": true
   },
   "outputs": [
    {
     "data": {
      "text/html": [
       "<div>\n",
       "<style scoped>\n",
       "    .dataframe tbody tr th:only-of-type {\n",
       "        vertical-align: middle;\n",
       "    }\n",
       "\n",
       "    .dataframe tbody tr th {\n",
       "        vertical-align: top;\n",
       "    }\n",
       "\n",
       "    .dataframe thead th {\n",
       "        text-align: right;\n",
       "    }\n",
       "</style>\n",
       "<table border=\"1\" class=\"dataframe\">\n",
       "  <thead>\n",
       "    <tr style=\"text-align: right;\">\n",
       "      <th></th>\n",
       "      <th>tweet_id</th>\n",
       "      <th>jpg_url</th>\n",
       "      <th>img_num</th>\n",
       "      <th>p1</th>\n",
       "      <th>p1_conf</th>\n",
       "      <th>p1_dog</th>\n",
       "      <th>p2</th>\n",
       "      <th>p2_conf</th>\n",
       "      <th>p2_dog</th>\n",
       "      <th>p3</th>\n",
       "      <th>p3_conf</th>\n",
       "      <th>p3_dog</th>\n",
       "    </tr>\n",
       "  </thead>\n",
       "  <tbody>\n",
       "    <tr>\n",
       "      <th>1608</th>\n",
       "      <td>800751577355128832</td>\n",
       "      <td>https://pbs.twimg.com/media/CxzXOyBW8AEu_Oi.jpg</td>\n",
       "      <td>2</td>\n",
       "      <td>cocker_spaniel</td>\n",
       "      <td>0.771984</td>\n",
       "      <td>True</td>\n",
       "      <td>miniature_poodle</td>\n",
       "      <td>0.076653</td>\n",
       "      <td>True</td>\n",
       "      <td>toy_poodle</td>\n",
       "      <td>0.039618</td>\n",
       "      <td>True</td>\n",
       "    </tr>\n",
       "    <tr>\n",
       "      <th>969</th>\n",
       "      <td>706516534877929472</td>\n",
       "      <td>https://pbs.twimg.com/media/Cc4NCQiXEAEx2eJ.jpg</td>\n",
       "      <td>1</td>\n",
       "      <td>golden_retriever</td>\n",
       "      <td>0.772685</td>\n",
       "      <td>True</td>\n",
       "      <td>Labrador_retriever</td>\n",
       "      <td>0.071665</td>\n",
       "      <td>True</td>\n",
       "      <td>golfcart</td>\n",
       "      <td>0.020993</td>\n",
       "      <td>False</td>\n",
       "    </tr>\n",
       "    <tr>\n",
       "      <th>1982</th>\n",
       "      <td>871762521631449091</td>\n",
       "      <td>https://pbs.twimg.com/media/DBkfY58XcAEdzZy.jpg</td>\n",
       "      <td>2</td>\n",
       "      <td>Labrador_retriever</td>\n",
       "      <td>0.921393</td>\n",
       "      <td>True</td>\n",
       "      <td>golden_retriever</td>\n",
       "      <td>0.064608</td>\n",
       "      <td>True</td>\n",
       "      <td>bloodhound</td>\n",
       "      <td>0.003383</td>\n",
       "      <td>True</td>\n",
       "    </tr>\n",
       "    <tr>\n",
       "      <th>419</th>\n",
       "      <td>674038233588723717</td>\n",
       "      <td>https://pbs.twimg.com/media/CVqqMtiVEAEye_L.jpg</td>\n",
       "      <td>1</td>\n",
       "      <td>Eskimo_dog</td>\n",
       "      <td>0.358459</td>\n",
       "      <td>True</td>\n",
       "      <td>Norwegian_elkhound</td>\n",
       "      <td>0.206963</td>\n",
       "      <td>True</td>\n",
       "      <td>malamute</td>\n",
       "      <td>0.148236</td>\n",
       "      <td>True</td>\n",
       "    </tr>\n",
       "    <tr>\n",
       "      <th>1290</th>\n",
       "      <td>751456908746354688</td>\n",
       "      <td>https://pbs.twimg.com/ext_tw_video_thumb/75145...</td>\n",
       "      <td>1</td>\n",
       "      <td>golden_retriever</td>\n",
       "      <td>0.714409</td>\n",
       "      <td>True</td>\n",
       "      <td>Afghan_hound</td>\n",
       "      <td>0.066163</td>\n",
       "      <td>True</td>\n",
       "      <td>chow</td>\n",
       "      <td>0.028413</td>\n",
       "      <td>True</td>\n",
       "    </tr>\n",
       "  </tbody>\n",
       "</table>\n",
       "</div>"
      ],
      "text/plain": [
       "                tweet_id                                            jpg_url  \\\n",
       "1608  800751577355128832    https://pbs.twimg.com/media/CxzXOyBW8AEu_Oi.jpg   \n",
       "969   706516534877929472    https://pbs.twimg.com/media/Cc4NCQiXEAEx2eJ.jpg   \n",
       "1982  871762521631449091    https://pbs.twimg.com/media/DBkfY58XcAEdzZy.jpg   \n",
       "419   674038233588723717    https://pbs.twimg.com/media/CVqqMtiVEAEye_L.jpg   \n",
       "1290  751456908746354688  https://pbs.twimg.com/ext_tw_video_thumb/75145...   \n",
       "\n",
       "      img_num                  p1   p1_conf  p1_dog                  p2  \\\n",
       "1608        2      cocker_spaniel  0.771984    True    miniature_poodle   \n",
       "969         1    golden_retriever  0.772685    True  Labrador_retriever   \n",
       "1982        2  Labrador_retriever  0.921393    True    golden_retriever   \n",
       "419         1          Eskimo_dog  0.358459    True  Norwegian_elkhound   \n",
       "1290        1    golden_retriever  0.714409    True        Afghan_hound   \n",
       "\n",
       "       p2_conf  p2_dog          p3   p3_conf  p3_dog  \n",
       "1608  0.076653    True  toy_poodle  0.039618    True  \n",
       "969   0.071665    True    golfcart  0.020993   False  \n",
       "1982  0.064608    True  bloodhound  0.003383    True  \n",
       "419   0.206963    True    malamute  0.148236    True  \n",
       "1290  0.066163    True        chow  0.028413    True  "
      ]
     },
     "execution_count": 30,
     "metadata": {},
     "output_type": "execute_result"
    }
   ],
   "source": [
    "df_image_data.sample(5)"
   ]
  },
  {
   "cell_type": "code",
   "execution_count": 31,
   "metadata": {},
   "outputs": [],
   "source": [
    "df_image_data2=df_image_data.copy()"
   ]
  },
  {
   "cell_type": "code",
   "execution_count": 32,
   "metadata": {},
   "outputs": [
    {
     "data": {
      "text/plain": [
       "True     1532\n",
       "False     543\n",
       "Name: p1_dog, dtype: int64"
      ]
     },
     "execution_count": 32,
     "metadata": {},
     "output_type": "execute_result"
    }
   ],
   "source": [
    "df_image_data2.p1_dog.value_counts()"
   ]
  },
  {
   "cell_type": "code",
   "execution_count": 33,
   "metadata": {},
   "outputs": [
    {
     "data": {
      "text/plain": [
       "golden_retriever      150\n",
       "Labrador_retriever    100\n",
       "Pembroke               89\n",
       "Chihuahua              83\n",
       "pug                    57\n",
       "                     ... \n",
       "slug                    1\n",
       "flamingo                1\n",
       "hummingbird             1\n",
       "pillow                  1\n",
       "ibex                    1\n",
       "Name: p1, Length: 378, dtype: int64"
      ]
     },
     "execution_count": 33,
     "metadata": {},
     "output_type": "execute_result"
    }
   ],
   "source": [
    "df_image_data['p1'].value_counts()"
   ]
  },
  {
   "cell_type": "code",
   "execution_count": 34,
   "metadata": {},
   "outputs": [
    {
     "data": {
      "text/plain": [
       "Labrador_retriever    104\n",
       "golden_retriever       92\n",
       "Cardigan               73\n",
       "Chihuahua              44\n",
       "Pomeranian             42\n",
       "                     ... \n",
       "sweatshirt              1\n",
       "iPod                    1\n",
       "white_wolf              1\n",
       "European_gallinule      1\n",
       "lampshade               1\n",
       "Name: p2, Length: 405, dtype: int64"
      ]
     },
     "execution_count": 34,
     "metadata": {},
     "output_type": "execute_result"
    }
   ],
   "source": [
    "df_image_data['p2'].value_counts()"
   ]
  },
  {
   "cell_type": "code",
   "execution_count": 35,
   "metadata": {},
   "outputs": [
    {
     "data": {
      "text/plain": [
       "Labrador_retriever    79\n",
       "Chihuahua             58\n",
       "golden_retriever      48\n",
       "Eskimo_dog            38\n",
       "kelpie                35\n",
       "                      ..\n",
       "mink                   1\n",
       "loggerhead             1\n",
       "balance_beam           1\n",
       "hatchet                1\n",
       "lampshade              1\n",
       "Name: p3, Length: 408, dtype: int64"
      ]
     },
     "execution_count": 35,
     "metadata": {},
     "output_type": "execute_result"
    }
   ],
   "source": [
    "df_image_data['p3'].value_counts()"
   ]
  },
  {
   "cell_type": "markdown",
   "metadata": {},
   "source": [
    "#### 2.3 clean - df_image_data"
   ]
  },
  {
   "cell_type": "code",
   "execution_count": 36,
   "metadata": {},
   "outputs": [],
   "source": [
    "# Define: converting df_image_data datatype to string\n",
    "\n",
    "df_image_data.tweet_id=df_image_data.tweet_id.astype(str)"
   ]
  },
  {
   "cell_type": "code",
   "execution_count": 37,
   "metadata": {},
   "outputs": [
    {
     "data": {
      "text/plain": [
       "dtype('O')"
      ]
     },
     "execution_count": 37,
     "metadata": {},
     "output_type": "execute_result"
    }
   ],
   "source": [
    "#test\n",
    "df_image_data.tweet_id.dtype"
   ]
  },
  {
   "cell_type": "code",
   "execution_count": 38,
   "metadata": {},
   "outputs": [],
   "source": [
    "# Define: Cleaning prediction p1, p2, p3 based on p1_conf,p2_conf and p3_conf values and storing them in a new column-breed_prediction\n",
    "def breed(row):\n",
    "    if row['p1_dog']:\n",
    "        return(row['p1'])\n",
    "    elif row['p2_dog']:\n",
    "        return(row['p2'])\n",
    "    elif row['p3_dog']:\n",
    "        return(row['p3'])\n",
    "    else:\n",
    "        return(np.NaN)\n",
    "\n",
    "df_image_data['breed_prediction'] =df_image_data.apply (lambda row: breed (row),axis=1)\n",
    "\n",
    "def confidence(row):\n",
    "    if row['p1_dog']:\n",
    "        return(row['p1_conf'])\n",
    "    elif row['p2_dog']:\n",
    "        return(row['p2_conf'])\n",
    "    elif row['p3_dog']:\n",
    "        return(row['p3_conf'])\n",
    "    else:\n",
    "        return(np.NaN)\n",
    "    \n",
    "df_image_data['prediction_confidence'] = df_image_data.apply (lambda row: confidence(row),axis=1)"
   ]
  },
  {
   "cell_type": "code",
   "execution_count": 39,
   "metadata": {},
   "outputs": [
    {
     "data": {
      "text/plain": [
       "golden_retriever        173\n",
       "Labrador_retriever      113\n",
       "Pembroke                 96\n",
       "Chihuahua                95\n",
       "pug                      65\n",
       "                       ... \n",
       "Japanese_spaniel          1\n",
       "Scotch_terrier            1\n",
       "standard_schnauzer        1\n",
       "clumber                   1\n",
       "Bouvier_des_Flandres      1\n",
       "Name: breed_prediction, Length: 113, dtype: int64"
      ]
     },
     "execution_count": 39,
     "metadata": {},
     "output_type": "execute_result"
    }
   ],
   "source": [
    "#test\n",
    "df_image_data['breed_prediction'].value_counts()"
   ]
  },
  {
   "cell_type": "code",
   "execution_count": 40,
   "metadata": {},
   "outputs": [],
   "source": [
    "#Define: Renaming the dog breed in similar way-srating with capitalized alphabet and then small\n",
    "\n",
    "df_image_data.breed_prediction = df_image_data.breed_prediction.str.replace('^[a-z]+', 'None')"
   ]
  },
  {
   "cell_type": "code",
   "execution_count": 41,
   "metadata": {},
   "outputs": [
    {
     "data": {
      "text/plain": [
       "None                    367\n",
       "None_retriever          173\n",
       "Labrador_retriever      113\n",
       "Pembroke                 96\n",
       "Chihuahua                95\n",
       "                       ... \n",
       "EntleBucher               1\n",
       "Irish_wolfhound           1\n",
       "Japanese_spaniel          1\n",
       "Scotch_terrier            1\n",
       "Bouvier_des_Flandres      1\n",
       "Name: breed_prediction, Length: 82, dtype: int64"
      ]
     },
     "execution_count": 41,
     "metadata": {},
     "output_type": "execute_result"
    }
   ],
   "source": [
    "#test\n",
    "df_image_data.breed_prediction.value_counts()"
   ]
  },
  {
   "cell_type": "code",
   "execution_count": 42,
   "metadata": {},
   "outputs": [],
   "source": [
    "#Define: dropping columns 'p1','p1_conf','p1_dog','p2','p2_conf','p2_dog','p3','p3_conf','p3_dog' as these are no longer required.\n",
    "df_image_data.drop(columns=['p1','p1_conf','p1_dog','p2','p2_conf','p2_dog','p3','p3_conf','p3_dog'],axis =1, inplace=True)"
   ]
  },
  {
   "cell_type": "code",
   "execution_count": 43,
   "metadata": {},
   "outputs": [
    {
     "name": "stdout",
     "output_type": "stream",
     "text": [
      "<class 'pandas.core.frame.DataFrame'>\n",
      "RangeIndex: 2075 entries, 0 to 2074\n",
      "Data columns (total 5 columns):\n",
      " #   Column                 Non-Null Count  Dtype  \n",
      "---  ------                 --------------  -----  \n",
      " 0   tweet_id               2075 non-null   object \n",
      " 1   jpg_url                2075 non-null   object \n",
      " 2   img_num                2075 non-null   int64  \n",
      " 3   breed_prediction       1751 non-null   object \n",
      " 4   prediction_confidence  1751 non-null   float64\n",
      "dtypes: float64(1), int64(1), object(3)\n",
      "memory usage: 81.2+ KB\n"
     ]
    }
   ],
   "source": [
    "#test\n",
    "df_image_data.info()"
   ]
  },
  {
   "cell_type": "markdown",
   "metadata": {},
   "source": [
    "#### 3.2   Assess - df_twitter_json data\n",
    "\n",
    ">3.21 Observations\n",
    "\n",
    "1.tweet_id is object,convert to string\n",
    "\n",
    "2.retweet_count is object datatype, convert to int\n",
    "\n",
    "3.favorite_count is object datatype, convert to int"
   ]
  },
  {
   "cell_type": "code",
   "execution_count": 44,
   "metadata": {},
   "outputs": [
    {
     "data": {
      "text/html": [
       "<div>\n",
       "<style scoped>\n",
       "    .dataframe tbody tr th:only-of-type {\n",
       "        vertical-align: middle;\n",
       "    }\n",
       "\n",
       "    .dataframe tbody tr th {\n",
       "        vertical-align: top;\n",
       "    }\n",
       "\n",
       "    .dataframe thead th {\n",
       "        text-align: right;\n",
       "    }\n",
       "</style>\n",
       "<table border=\"1\" class=\"dataframe\">\n",
       "  <thead>\n",
       "    <tr style=\"text-align: right;\">\n",
       "      <th></th>\n",
       "      <th>tweet_id</th>\n",
       "      <th>retweet_count</th>\n",
       "      <th>favorite_count</th>\n",
       "    </tr>\n",
       "  </thead>\n",
       "  <tbody>\n",
       "    <tr>\n",
       "      <th>880</th>\n",
       "      <td>758405701903519748</td>\n",
       "      <td>1923</td>\n",
       "      <td>5234</td>\n",
       "    </tr>\n",
       "    <tr>\n",
       "      <th>1694</th>\n",
       "      <td>680176173301628928</td>\n",
       "      <td>1541</td>\n",
       "      <td>3873</td>\n",
       "    </tr>\n",
       "    <tr>\n",
       "      <th>969</th>\n",
       "      <td>748575535303884801</td>\n",
       "      <td>1977</td>\n",
       "      <td>6096</td>\n",
       "    </tr>\n",
       "    <tr>\n",
       "      <th>15</th>\n",
       "      <td>889278841981685760</td>\n",
       "      <td>4866</td>\n",
       "      <td>23641</td>\n",
       "    </tr>\n",
       "    <tr>\n",
       "      <th>329</th>\n",
       "      <td>832040443403784192</td>\n",
       "      <td>9695</td>\n",
       "      <td>0</td>\n",
       "    </tr>\n",
       "  </tbody>\n",
       "</table>\n",
       "</div>"
      ],
      "text/plain": [
       "                tweet_id retweet_count favorite_count\n",
       "880   758405701903519748          1923           5234\n",
       "1694  680176173301628928          1541           3873\n",
       "969   748575535303884801          1977           6096\n",
       "15    889278841981685760          4866          23641\n",
       "329   832040443403784192          9695              0"
      ]
     },
     "execution_count": 44,
     "metadata": {},
     "output_type": "execute_result"
    }
   ],
   "source": [
    "df_twitter_json.sample(5)"
   ]
  },
  {
   "cell_type": "code",
   "execution_count": 45,
   "metadata": {},
   "outputs": [
    {
     "name": "stdout",
     "output_type": "stream",
     "text": [
      "<class 'pandas.core.frame.DataFrame'>\n",
      "RangeIndex: 2331 entries, 0 to 2330\n",
      "Data columns (total 3 columns):\n",
      " #   Column          Non-Null Count  Dtype \n",
      "---  ------          --------------  ----- \n",
      " 0   tweet_id        2331 non-null   object\n",
      " 1   retweet_count   2331 non-null   object\n",
      " 2   favorite_count  2331 non-null   object\n",
      "dtypes: object(3)\n",
      "memory usage: 54.8+ KB\n"
     ]
    }
   ],
   "source": [
    "df_twitter_json.info()"
   ]
  },
  {
   "cell_type": "code",
   "execution_count": 46,
   "metadata": {},
   "outputs": [
    {
     "data": {
      "text/plain": [
       "0"
      ]
     },
     "execution_count": 46,
     "metadata": {},
     "output_type": "execute_result"
    }
   ],
   "source": [
    "df_twitter_json.tweet_id.duplicated().sum()"
   ]
  },
  {
   "cell_type": "code",
   "execution_count": 47,
   "metadata": {},
   "outputs": [
    {
     "data": {
      "text/plain": [
       "0"
      ]
     },
     "execution_count": 47,
     "metadata": {},
     "output_type": "execute_result"
    }
   ],
   "source": [
    "df_twitter_json.tweet_id.isna().sum()"
   ]
  },
  {
   "cell_type": "markdown",
   "metadata": {},
   "source": [
    "##### 3.3 Clean Data-df_twitter_json"
   ]
  },
  {
   "cell_type": "code",
   "execution_count": 48,
   "metadata": {},
   "outputs": [],
   "source": [
    "#Define: Converting the datatype of tweet_id to string\n",
    "\n",
    "df_twitter_json.tweet_id=df_twitter_json.tweet_id.astype(str)"
   ]
  },
  {
   "cell_type": "code",
   "execution_count": 49,
   "metadata": {},
   "outputs": [
    {
     "data": {
      "text/plain": [
       "dtype('O')"
      ]
     },
     "execution_count": 49,
     "metadata": {},
     "output_type": "execute_result"
    }
   ],
   "source": [
    "df_twitter_json.tweet_id.dtype"
   ]
  },
  {
   "cell_type": "code",
   "execution_count": 50,
   "metadata": {},
   "outputs": [],
   "source": [
    "#Define: Converting the datatype of retweet_count and favorite_count to int\n",
    "\n",
    "df_twitter_json.retweet_count=df_twitter_json.retweet_count.astype(int)\n",
    "df_twitter_json.favorite_count=df_twitter_json.favorite_count.astype(int)"
   ]
  },
  {
   "cell_type": "code",
   "execution_count": 51,
   "metadata": {},
   "outputs": [
    {
     "name": "stdout",
     "output_type": "stream",
     "text": [
      "<class 'pandas.core.frame.DataFrame'>\n",
      "RangeIndex: 2331 entries, 0 to 2330\n",
      "Data columns (total 3 columns):\n",
      " #   Column          Non-Null Count  Dtype \n",
      "---  ------          --------------  ----- \n",
      " 0   tweet_id        2331 non-null   object\n",
      " 1   retweet_count   2331 non-null   int32 \n",
      " 2   favorite_count  2331 non-null   int32 \n",
      "dtypes: int32(2), object(1)\n",
      "memory usage: 36.5+ KB\n"
     ]
    }
   ],
   "source": [
    "#test\n",
    "df_twitter_json.info()"
   ]
  },
  {
   "cell_type": "markdown",
   "metadata": {},
   "source": [
    "#### Tidiness: Merge 3 Data sets into one"
   ]
  },
  {
   "cell_type": "code",
   "execution_count": 52,
   "metadata": {},
   "outputs": [],
   "source": [
    "# Define:  Merging 3 datasets into one single dataset as 'df_combined'\n",
    "\n",
    "df_combined=pd.merge((pd.merge(df,df_image_data, on='tweet_id')),df_twitter_json, on='tweet_id')"
   ]
  },
  {
   "cell_type": "code",
   "execution_count": 53,
   "metadata": {},
   "outputs": [
    {
     "name": "stdout",
     "output_type": "stream",
     "text": [
      "<class 'pandas.core.frame.DataFrame'>\n",
      "Int64Index: 1987 entries, 0 to 1986\n",
      "Data columns (total 14 columns):\n",
      " #   Column                 Non-Null Count  Dtype         \n",
      "---  ------                 --------------  -----         \n",
      " 0   tweet_id               1987 non-null   object        \n",
      " 1   timestamp              1987 non-null   datetime64[ns]\n",
      " 2   text                   1987 non-null   object        \n",
      " 3   expanded_urls          1987 non-null   object        \n",
      " 4   rating_numerator       1987 non-null   float64       \n",
      " 5   rating_denominator     1987 non-null   float64       \n",
      " 6   name                   1987 non-null   object        \n",
      " 7   dog_stage              1987 non-null   object        \n",
      " 8   jpg_url                1987 non-null   object        \n",
      " 9   img_num                1987 non-null   int64         \n",
      " 10  breed_prediction       1679 non-null   object        \n",
      " 11  prediction_confidence  1679 non-null   float64       \n",
      " 12  retweet_count          1987 non-null   int32         \n",
      " 13  favorite_count         1987 non-null   int32         \n",
      "dtypes: datetime64[ns](1), float64(3), int32(2), int64(1), object(7)\n",
      "memory usage: 217.3+ KB\n"
     ]
    }
   ],
   "source": [
    "#test\n",
    "df_combined.info()"
   ]
  },
  {
   "cell_type": "code",
   "execution_count": 54,
   "metadata": {},
   "outputs": [],
   "source": [
    "#copying the data set\n",
    "df_clean=df_combined.copy()"
   ]
  },
  {
   "cell_type": "code",
   "execution_count": 55,
   "metadata": {},
   "outputs": [
    {
     "name": "stdout",
     "output_type": "stream",
     "text": [
      "<class 'pandas.core.frame.DataFrame'>\n",
      "Int64Index: 1987 entries, 0 to 1986\n",
      "Data columns (total 14 columns):\n",
      " #   Column                 Non-Null Count  Dtype         \n",
      "---  ------                 --------------  -----         \n",
      " 0   tweet_id               1987 non-null   object        \n",
      " 1   timestamp              1987 non-null   datetime64[ns]\n",
      " 2   text                   1987 non-null   object        \n",
      " 3   expanded_urls          1987 non-null   object        \n",
      " 4   rating_numerator       1987 non-null   float64       \n",
      " 5   rating_denominator     1987 non-null   float64       \n",
      " 6   name                   1987 non-null   object        \n",
      " 7   dog_stage              1987 non-null   object        \n",
      " 8   jpg_url                1987 non-null   object        \n",
      " 9   img_num                1987 non-null   int64         \n",
      " 10  breed_prediction       1679 non-null   object        \n",
      " 11  prediction_confidence  1679 non-null   float64       \n",
      " 12  retweet_count          1987 non-null   int32         \n",
      " 13  favorite_count         1987 non-null   int32         \n",
      "dtypes: datetime64[ns](1), float64(3), int32(2), int64(1), object(7)\n",
      "memory usage: 217.3+ KB\n"
     ]
    }
   ],
   "source": [
    "#test\n",
    "df_clean.info()"
   ]
  },
  {
   "cell_type": "code",
   "execution_count": 56,
   "metadata": {
    "scrolled": true
   },
   "outputs": [
    {
     "data": {
      "text/html": [
       "<div>\n",
       "<style scoped>\n",
       "    .dataframe tbody tr th:only-of-type {\n",
       "        vertical-align: middle;\n",
       "    }\n",
       "\n",
       "    .dataframe tbody tr th {\n",
       "        vertical-align: top;\n",
       "    }\n",
       "\n",
       "    .dataframe thead th {\n",
       "        text-align: right;\n",
       "    }\n",
       "</style>\n",
       "<table border=\"1\" class=\"dataframe\">\n",
       "  <thead>\n",
       "    <tr style=\"text-align: right;\">\n",
       "      <th></th>\n",
       "      <th>tweet_id</th>\n",
       "      <th>timestamp</th>\n",
       "      <th>text</th>\n",
       "      <th>expanded_urls</th>\n",
       "      <th>rating_numerator</th>\n",
       "      <th>rating_denominator</th>\n",
       "      <th>name</th>\n",
       "      <th>dog_stage</th>\n",
       "      <th>jpg_url</th>\n",
       "      <th>img_num</th>\n",
       "      <th>breed_prediction</th>\n",
       "      <th>prediction_confidence</th>\n",
       "      <th>retweet_count</th>\n",
       "      <th>favorite_count</th>\n",
       "    </tr>\n",
       "  </thead>\n",
       "  <tbody>\n",
       "    <tr>\n",
       "      <th>595</th>\n",
       "      <td>769940425801170949</td>\n",
       "      <td>2016-08-28 16:51:16</td>\n",
       "      <td>This is Klein. These pics were taken a month a...</td>\n",
       "      <td>https://twitter.com/dog_rates/status/769940425...</td>\n",
       "      <td>12.0</td>\n",
       "      <td>10.0</td>\n",
       "      <td>Klein</td>\n",
       "      <td></td>\n",
       "      <td>https://pbs.twimg.com/media/Cq9guJ5WgAADfpF.jpg</td>\n",
       "      <td>1</td>\n",
       "      <td>None_pinscher</td>\n",
       "      <td>0.796313</td>\n",
       "      <td>9695</td>\n",
       "      <td>31716</td>\n",
       "    </tr>\n",
       "    <tr>\n",
       "      <th>828</th>\n",
       "      <td>734912297295085568</td>\n",
       "      <td>2016-05-24 01:02:00</td>\n",
       "      <td>This is Jax. He's a literal fluffball. Sneaky ...</td>\n",
       "      <td>https://twitter.com/dog_rates/status/734912297...</td>\n",
       "      <td>10.0</td>\n",
       "      <td>10.0</td>\n",
       "      <td>Jax</td>\n",
       "      <td></td>\n",
       "      <td>https://pbs.twimg.com/media/CjLuzPvUoAAbU5k.jpg</td>\n",
       "      <td>1</td>\n",
       "      <td>Maltese_dog</td>\n",
       "      <td>0.847292</td>\n",
       "      <td>524</td>\n",
       "      <td>2741</td>\n",
       "    </tr>\n",
       "    <tr>\n",
       "      <th>703</th>\n",
       "      <td>751132876104687617</td>\n",
       "      <td>2016-07-07 19:16:47</td>\n",
       "      <td>This is Cooper. He's just so damn happy. 10/10...</td>\n",
       "      <td>https://twitter.com/dog_rates/status/751132876...</td>\n",
       "      <td>10.0</td>\n",
       "      <td>10.0</td>\n",
       "      <td>Cooper</td>\n",
       "      <td>puppo</td>\n",
       "      <td>https://pbs.twimg.com/media/CmyPXNOW8AEtaJ-.jpg</td>\n",
       "      <td>1</td>\n",
       "      <td>Labrador_retriever</td>\n",
       "      <td>0.929390</td>\n",
       "      <td>1301</td>\n",
       "      <td>5100</td>\n",
       "    </tr>\n",
       "    <tr>\n",
       "      <th>957</th>\n",
       "      <td>711652651650457602</td>\n",
       "      <td>2016-03-20 20:36:28</td>\n",
       "      <td>This is Gary. He just wanted to say hi. 9/10 v...</td>\n",
       "      <td>https://twitter.com/dog_rates/status/711652651...</td>\n",
       "      <td>9.0</td>\n",
       "      <td>10.0</td>\n",
       "      <td>Gary</td>\n",
       "      <td></td>\n",
       "      <td>https://pbs.twimg.com/media/CeBMT6-WIAA7Qqf.jpg</td>\n",
       "      <td>1</td>\n",
       "      <td>NaN</td>\n",
       "      <td>NaN</td>\n",
       "      <td>908</td>\n",
       "      <td>3834</td>\n",
       "    </tr>\n",
       "    <tr>\n",
       "      <th>1824</th>\n",
       "      <td>668975677807423489</td>\n",
       "      <td>2015-11-24 02:13:25</td>\n",
       "      <td>This is Jeremy. He hasn't grown into his skin ...</td>\n",
       "      <td>https://twitter.com/dog_rates/status/668975677...</td>\n",
       "      <td>11.0</td>\n",
       "      <td>10.0</td>\n",
       "      <td>Jeremy</td>\n",
       "      <td></td>\n",
       "      <td>https://pbs.twimg.com/media/CUit1O1WoAEBHjj.jpg</td>\n",
       "      <td>1</td>\n",
       "      <td>None</td>\n",
       "      <td>0.605437</td>\n",
       "      <td>556</td>\n",
       "      <td>1255</td>\n",
       "    </tr>\n",
       "  </tbody>\n",
       "</table>\n",
       "</div>"
      ],
      "text/plain": [
       "                tweet_id           timestamp  \\\n",
       "595   769940425801170949 2016-08-28 16:51:16   \n",
       "828   734912297295085568 2016-05-24 01:02:00   \n",
       "703   751132876104687617 2016-07-07 19:16:47   \n",
       "957   711652651650457602 2016-03-20 20:36:28   \n",
       "1824  668975677807423489 2015-11-24 02:13:25   \n",
       "\n",
       "                                                   text  \\\n",
       "595   This is Klein. These pics were taken a month a...   \n",
       "828   This is Jax. He's a literal fluffball. Sneaky ...   \n",
       "703   This is Cooper. He's just so damn happy. 10/10...   \n",
       "957   This is Gary. He just wanted to say hi. 9/10 v...   \n",
       "1824  This is Jeremy. He hasn't grown into his skin ...   \n",
       "\n",
       "                                          expanded_urls  rating_numerator  \\\n",
       "595   https://twitter.com/dog_rates/status/769940425...              12.0   \n",
       "828   https://twitter.com/dog_rates/status/734912297...              10.0   \n",
       "703   https://twitter.com/dog_rates/status/751132876...              10.0   \n",
       "957   https://twitter.com/dog_rates/status/711652651...               9.0   \n",
       "1824  https://twitter.com/dog_rates/status/668975677...              11.0   \n",
       "\n",
       "      rating_denominator    name dog_stage  \\\n",
       "595                 10.0   Klein             \n",
       "828                 10.0     Jax             \n",
       "703                 10.0  Cooper     puppo   \n",
       "957                 10.0    Gary             \n",
       "1824                10.0  Jeremy             \n",
       "\n",
       "                                              jpg_url  img_num  \\\n",
       "595   https://pbs.twimg.com/media/Cq9guJ5WgAADfpF.jpg        1   \n",
       "828   https://pbs.twimg.com/media/CjLuzPvUoAAbU5k.jpg        1   \n",
       "703   https://pbs.twimg.com/media/CmyPXNOW8AEtaJ-.jpg        1   \n",
       "957   https://pbs.twimg.com/media/CeBMT6-WIAA7Qqf.jpg        1   \n",
       "1824  https://pbs.twimg.com/media/CUit1O1WoAEBHjj.jpg        1   \n",
       "\n",
       "        breed_prediction  prediction_confidence  retweet_count  favorite_count  \n",
       "595        None_pinscher               0.796313           9695           31716  \n",
       "828          Maltese_dog               0.847292            524            2741  \n",
       "703   Labrador_retriever               0.929390           1301            5100  \n",
       "957                  NaN                    NaN            908            3834  \n",
       "1824                None               0.605437            556            1255  "
      ]
     },
     "execution_count": 56,
     "metadata": {},
     "output_type": "execute_result"
    }
   ],
   "source": [
    "df_clean.sample(5)"
   ]
  },
  {
   "cell_type": "code",
   "execution_count": 57,
   "metadata": {},
   "outputs": [
    {
     "data": {
      "text/plain": [
       "0"
      ]
     },
     "execution_count": 57,
     "metadata": {},
     "output_type": "execute_result"
    }
   ],
   "source": [
    "df_clean.jpg_url.duplicated().sum()"
   ]
  },
  {
   "cell_type": "code",
   "execution_count": 58,
   "metadata": {},
   "outputs": [
    {
     "data": {
      "text/plain": [
       "0"
      ]
     },
     "execution_count": 58,
     "metadata": {},
     "output_type": "execute_result"
    }
   ],
   "source": [
    "df_clean.tweet_id.duplicated().sum()"
   ]
  },
  {
   "cell_type": "code",
   "execution_count": 59,
   "metadata": {},
   "outputs": [
    {
     "data": {
      "text/plain": [
       "0"
      ]
     },
     "execution_count": 59,
     "metadata": {},
     "output_type": "execute_result"
    }
   ],
   "source": [
    "df_clean.duplicated().sum()"
   ]
  },
  {
   "cell_type": "code",
   "execution_count": 60,
   "metadata": {},
   "outputs": [],
   "source": [
    "#Define: Extracting and storing numerator and denominator ratings from the column 'text'\n",
    "\n",
    "#code\n",
    "df_clean['numerator_extract'] =df_clean.text.str.extract('((?:\\d+\\.)?\\d+)\\/(\\d+)', expand=True)[0]\n",
    "df_clean['denominator_extract'] =df_clean.text.str.extract('((?:\\d+\\.)?\\d+)\\/(\\d+)', expand=True)[1]\n"
   ]
  },
  {
   "cell_type": "code",
   "execution_count": 61,
   "metadata": {},
   "outputs": [
    {
     "name": "stdout",
     "output_type": "stream",
     "text": [
      "<class 'pandas.core.frame.DataFrame'>\n",
      "Int64Index: 1987 entries, 0 to 1986\n",
      "Data columns (total 16 columns):\n",
      " #   Column                 Non-Null Count  Dtype         \n",
      "---  ------                 --------------  -----         \n",
      " 0   tweet_id               1987 non-null   object        \n",
      " 1   timestamp              1987 non-null   datetime64[ns]\n",
      " 2   text                   1987 non-null   object        \n",
      " 3   expanded_urls          1987 non-null   object        \n",
      " 4   rating_numerator       1987 non-null   float64       \n",
      " 5   rating_denominator     1987 non-null   float64       \n",
      " 6   name                   1987 non-null   object        \n",
      " 7   dog_stage              1987 non-null   object        \n",
      " 8   jpg_url                1987 non-null   object        \n",
      " 9   img_num                1987 non-null   int64         \n",
      " 10  breed_prediction       1679 non-null   object        \n",
      " 11  prediction_confidence  1679 non-null   float64       \n",
      " 12  retweet_count          1987 non-null   int32         \n",
      " 13  favorite_count         1987 non-null   int32         \n",
      " 14  numerator_extract      1987 non-null   object        \n",
      " 15  denominator_extract    1987 non-null   object        \n",
      "dtypes: datetime64[ns](1), float64(3), int32(2), int64(1), object(9)\n",
      "memory usage: 248.4+ KB\n"
     ]
    }
   ],
   "source": [
    "#test\n",
    "df_clean.info()"
   ]
  },
  {
   "cell_type": "code",
   "execution_count": 62,
   "metadata": {},
   "outputs": [
    {
     "data": {
      "text/plain": [
       "12       448\n",
       "10       418\n",
       "11       396\n",
       "13       257\n",
       "9        151\n",
       "8         95\n",
       "7         52\n",
       "14        35\n",
       "5         32\n",
       "6         32\n",
       "3         19\n",
       "4         16\n",
       "2          9\n",
       "1          5\n",
       "0          2\n",
       "420        1\n",
       "24         1\n",
       "143        1\n",
       "50         1\n",
       "9.75       1\n",
       "84         1\n",
       "204        1\n",
       "13.5       1\n",
       "11.26      1\n",
       "165        1\n",
       "45         1\n",
       "11.27      1\n",
       "99         1\n",
       "60         1\n",
       "80         1\n",
       "88         1\n",
       "121        1\n",
       "44         1\n",
       "144        1\n",
       "1776       1\n",
       "Name: numerator_extract, dtype: int64"
      ]
     },
     "execution_count": 62,
     "metadata": {},
     "output_type": "execute_result"
    }
   ],
   "source": [
    "df_clean['numerator_extract'].value_counts()"
   ]
  },
  {
   "cell_type": "code",
   "execution_count": 63,
   "metadata": {},
   "outputs": [
    {
     "data": {
      "text/plain": [
       "dtype('float64')"
      ]
     },
     "execution_count": 63,
     "metadata": {},
     "output_type": "execute_result"
    }
   ],
   "source": [
    "#Define:  convert numerator_extract to datatype float\n",
    "\n",
    "df_clean['numerator_extract']=df_clean['numerator_extract'].astype(float,errors='ignore')\n",
    "\n",
    "#test\n",
    "df_clean['numerator_extract'].dtype"
   ]
  },
  {
   "cell_type": "code",
   "execution_count": 64,
   "metadata": {},
   "outputs": [
    {
     "data": {
      "text/plain": [
       "dtype('float64')"
      ]
     },
     "execution_count": 64,
     "metadata": {},
     "output_type": "execute_result"
    }
   ],
   "source": [
    "#Define:  convert denominator_extract to datatype float\n",
    "df_clean['denominator_extract']=df_clean['denominator_extract'].astype(float,errors='ignore')\n",
    "df_clean['denominator_extract'].dtype"
   ]
  },
  {
   "cell_type": "code",
   "execution_count": 65,
   "metadata": {},
   "outputs": [],
   "source": [
    "#Define: deleteing records with inconsistent denominator rating\n",
    "\n",
    "df_clean=df_clean[df_clean['denominator_extract']==10]"
   ]
  },
  {
   "cell_type": "code",
   "execution_count": 66,
   "metadata": {},
   "outputs": [
    {
     "data": {
      "text/plain": [
       "10.0    1969\n",
       "Name: denominator_extract, dtype: int64"
      ]
     },
     "execution_count": 66,
     "metadata": {},
     "output_type": "execute_result"
    }
   ],
   "source": [
    "#Test\n",
    "df_clean['denominator_extract'].value_counts()"
   ]
  },
  {
   "cell_type": "code",
   "execution_count": 67,
   "metadata": {},
   "outputs": [],
   "source": [
    "#Define: Creating a rating_extract by dividing the numerator_extract by denominator_extract\n",
    "\n",
    "df_clean['rating_extract']=df_clean['numerator_extract']/df_clean['denominator_extract']"
   ]
  },
  {
   "cell_type": "code",
   "execution_count": 68,
   "metadata": {},
   "outputs": [
    {
     "data": {
      "text/plain": [
       "1.200      448\n",
       "1.000      418\n",
       "1.100      396\n",
       "1.300      257\n",
       "0.900      150\n",
       "0.800       95\n",
       "0.700       51\n",
       "1.400       35\n",
       "0.500       32\n",
       "0.600       32\n",
       "0.300       19\n",
       "0.400       15\n",
       "0.200        9\n",
       "0.100        4\n",
       "0.000        2\n",
       "1.127        1\n",
       "1.350        1\n",
       "1.126        1\n",
       "0.975        1\n",
       "42.000       1\n",
       "177.600      1\n",
       "Name: rating_extract, dtype: int64"
      ]
     },
     "execution_count": 68,
     "metadata": {},
     "output_type": "execute_result"
    }
   ],
   "source": [
    "#test\n",
    "df_clean['rating_extract'].value_counts()"
   ]
  },
  {
   "cell_type": "code",
   "execution_count": 69,
   "metadata": {},
   "outputs": [],
   "source": [
    "#Define:  Cleaning & deleting records with rating_extract >2\n",
    "\n",
    "df_clean=df_clean[df_clean['rating_extract']<=2]\n",
    "df_clean=df_clean[df_clean['rating_extract']>0]"
   ]
  },
  {
   "cell_type": "code",
   "execution_count": 70,
   "metadata": {},
   "outputs": [
    {
     "data": {
      "text/plain": [
       "1.200    448\n",
       "1.000    418\n",
       "1.100    396\n",
       "1.300    257\n",
       "0.900    150\n",
       "0.800     95\n",
       "0.700     51\n",
       "1.400     35\n",
       "0.500     32\n",
       "0.600     32\n",
       "0.300     19\n",
       "0.400     15\n",
       "0.200      9\n",
       "0.100      4\n",
       "1.127      1\n",
       "1.350      1\n",
       "0.975      1\n",
       "1.126      1\n",
       "Name: rating_extract, dtype: int64"
      ]
     },
     "execution_count": 70,
     "metadata": {},
     "output_type": "execute_result"
    }
   ],
   "source": [
    "#Test\n",
    "\n",
    "df_clean.rating_extract.value_counts()"
   ]
  },
  {
   "cell_type": "code",
   "execution_count": 71,
   "metadata": {},
   "outputs": [
    {
     "data": {
      "text/plain": [
       "None                    351\n",
       "None_retriever          154\n",
       "Labrador_retriever      103\n",
       "Pembroke                 95\n",
       "Chihuahua                90\n",
       "                       ... \n",
       "Bouvier_des_Flandres      1\n",
       "Japanese_spaniel          1\n",
       "Scotch_terrier            1\n",
       "EntleBucher               1\n",
       "Irish_wolfhound           1\n",
       "Name: breed_prediction, Length: 82, dtype: int64"
      ]
     },
     "execution_count": 71,
     "metadata": {},
     "output_type": "execute_result"
    }
   ],
   "source": [
    "df_clean.breed_prediction.value_counts()"
   ]
  },
  {
   "cell_type": "code",
   "execution_count": 72,
   "metadata": {},
   "outputs": [],
   "source": [
    "#Define:  breed_prediction name correction by removing None_\n",
    "\n",
    "df_clean.loc[df_clean['breed_prediction'] == 'None_retriever' , 'breed_prediction'] = 'Retriever'\n",
    "df_clean.loc[df_clean['breed_prediction'] == 'None_poodle' , 'breed_prediction'] = 'Poodle'\n",
    "df_clean.loc[df_clean['breed_prediction'] == 'None_spaniel' , 'breed_prediction'] = 'Spaniel'\n",
    "df_clean.loc[df_clean['breed_prediction'] == 'None_pinscher' , 'breed_prediction'] = 'Pinscher'"
   ]
  },
  {
   "cell_type": "code",
   "execution_count": 73,
   "metadata": {},
   "outputs": [
    {
     "data": {
      "text/plain": [
       "None                    351\n",
       "Retriever               154\n",
       "Labrador_retriever      103\n",
       "Pembroke                 95\n",
       "Chihuahua                90\n",
       "                       ... \n",
       "EntleBucher               1\n",
       "Bouvier_des_Flandres      1\n",
       "Japanese_spaniel          1\n",
       "Irish_wolfhound           1\n",
       "Scotch_terrier            1\n",
       "Name: breed_prediction, Length: 82, dtype: int64"
      ]
     },
     "execution_count": 73,
     "metadata": {},
     "output_type": "execute_result"
    }
   ],
   "source": [
    "#test\n",
    "df_clean.breed_prediction.value_counts()"
   ]
  },
  {
   "cell_type": "code",
   "execution_count": 74,
   "metadata": {},
   "outputs": [],
   "source": [
    "#Define: droping columns 'rating_numerator','rating_denominator' as we have the new extract values\n",
    "\n",
    "df_clean.drop(columns=['rating_numerator','rating_denominator'],axis =1, inplace=True)"
   ]
  },
  {
   "cell_type": "code",
   "execution_count": 75,
   "metadata": {},
   "outputs": [
    {
     "name": "stdout",
     "output_type": "stream",
     "text": [
      "<class 'pandas.core.frame.DataFrame'>\n",
      "Int64Index: 1965 entries, 0 to 1986\n",
      "Data columns (total 15 columns):\n",
      " #   Column                 Non-Null Count  Dtype         \n",
      "---  ------                 --------------  -----         \n",
      " 0   tweet_id               1965 non-null   object        \n",
      " 1   timestamp              1965 non-null   datetime64[ns]\n",
      " 2   text                   1965 non-null   object        \n",
      " 3   expanded_urls          1965 non-null   object        \n",
      " 4   name                   1965 non-null   object        \n",
      " 5   dog_stage              1965 non-null   object        \n",
      " 6   jpg_url                1965 non-null   object        \n",
      " 7   img_num                1965 non-null   int64         \n",
      " 8   breed_prediction       1661 non-null   object        \n",
      " 9   prediction_confidence  1661 non-null   float64       \n",
      " 10  retweet_count          1965 non-null   int32         \n",
      " 11  favorite_count         1965 non-null   int32         \n",
      " 12  numerator_extract      1965 non-null   float64       \n",
      " 13  denominator_extract    1965 non-null   float64       \n",
      " 14  rating_extract         1965 non-null   float64       \n",
      "dtypes: datetime64[ns](1), float64(4), int32(2), int64(1), object(7)\n",
      "memory usage: 230.3+ KB\n"
     ]
    }
   ],
   "source": [
    "#test\n",
    "df_clean.info()"
   ]
  },
  {
   "cell_type": "code",
   "execution_count": 76,
   "metadata": {},
   "outputs": [],
   "source": [
    "#Define: storing cleaning data to csv\n",
    "\n",
    "df_clean.to_csv('twitter_archive_master.csv')"
   ]
  },
  {
   "cell_type": "markdown",
   "metadata": {},
   "source": [
    "### Analyze and Visualizations"
   ]
  },
  {
   "cell_type": "code",
   "execution_count": 77,
   "metadata": {},
   "outputs": [
    {
     "data": {
      "image/png": "[encoded data removed]",
      "text/plain": [
       "<Figure size 432x288 with 1 Axes>"
      ]
     },
     "metadata": {
      "needs_background": "light"
     },
     "output_type": "display_data"
    }
   ],
   "source": [
    "import matplotlib.pyplot as plt\n",
    "\n",
    "df_clean['breed_prediction'].value_counts()[1:15].sort_values(ascending=False).plot(kind = 'bar')\n",
    "plt.ylabel('Count of Dogs')\n",
    "plt.title('Top 15 frequent dog breeds', size=12)\n",
    "plt.xlabel('Dog Breed');\n"
   ]
  },
  {
   "cell_type": "code",
   "execution_count": 78,
   "metadata": {},
   "outputs": [
    {
     "data": {
      "image/png": "[encoded data removed]",
      "text/plain": [
       "<Figure size 432x288 with 1 Axes>"
      ]
     },
     "metadata": {
      "needs_background": "light"
     },
     "output_type": "display_data"
    }
   ],
   "source": [
    "df_clean['name'].value_counts()[1:10].sort_values(ascending=False).plot(kind = 'bar',color='g')\n",
    "plt.ylabel('Count of Dogs')\n",
    "plt.title('Top 10 dog names', size=12)\n",
    "plt.xlabel('Dog Name');"
   ]
  },
  {
   "cell_type": "code",
   "execution_count": 79,
   "metadata": {
    "scrolled": true
   },
   "outputs": [
    {
     "data": {
      "image/png": "[encoded data removed]",
      "text/plain": [
       "<Figure size 432x288 with 1 Axes>"
      ]
     },
     "metadata": {
      "needs_background": "light"
     },
     "output_type": "display_data"
    }
   ],
   "source": [
    "plt.scatter(df_clean.retweet_count, df_clean.favorite_count,s=10,c='r')\n",
    "plt.title('Retweet vs favorite')\n",
    "plt.xlabel('retweet_count')\n",
    "plt.ylabel('favorite_count');"
   ]
  },
  {
   "cell_type": "code",
   "execution_count": 80,
   "metadata": {},
   "outputs": [
    {
     "data": {
      "text/plain": [
       "                  1660\n",
       "pupper             203\n",
       "doggo               62\n",
       "puppo               22\n",
       "doggo, pupper        9\n",
       "floofer              7\n",
       "doggo, floofer       1\n",
       "doggo, puppo         1\n",
       "Name: dog_stage, dtype: int64"
      ]
     },
     "execution_count": 80,
     "metadata": {},
     "output_type": "execute_result"
    }
   ],
   "source": [
    "df_clean.dog_stage.value_counts()"
   ]
  },
  {
   "cell_type": "code",
   "execution_count": 81,
   "metadata": {},
   "outputs": [
    {
     "data": {
      "text/plain": [
       "tweet_id    1965\n",
       "dtype: int64"
      ]
     },
     "execution_count": 81,
     "metadata": {},
     "output_type": "execute_result"
    }
   ],
   "source": [
    "#Analyze and group Timestamp into Monthly tweets\n",
    "\n",
    "df_clean.timestamp = pd.to_datetime(df_clean['timestamp'], format='%Y-%m-%d %H:%M:%S.%f')\n",
    "\n",
    "monthly_tweets = df_clean.groupby(pd.Grouper(key = 'timestamp', freq = \"M\")).count().reset_index()\n",
    "monthly_tweets = monthly_tweets[['timestamp', 'tweet_id']]\n",
    "monthly_tweets.head()\n",
    "monthly_tweets.sum()"
   ]
  },
  {
   "cell_type": "code",
   "execution_count": 82,
   "metadata": {
    "scrolled": false
   },
   "outputs": [
    {
     "data": {
      "image/png": "[encoded data removed]",
      "text/plain": [
       "<Figure size 576x432 with 1 Axes>"
      ]
     },
     "metadata": {
      "needs_background": "light"
     },
     "output_type": "display_data"
    }
   ],
   "source": [
    "plt.figure(figsize=(8,6))\n",
    "\n",
    "plt.xlabel('Year and Month')\n",
    "plt.ylabel('Tweets Count')\n",
    "\n",
    "plt.plot(monthly_tweets.timestamp, monthly_tweets.tweet_id)\n",
    "plt.title('WeRateDogs Tweets over Time');"
   ]
  },
  {
   "cell_type": "code",
   "execution_count": 83,
   "metadata": {},
   "outputs": [
    {
     "data": {
      "image/png": "[encoded data removed]",
      "text/plain": [
       "<Figure size 432x288 with 1 Axes>"
      ]
     },
     "metadata": {
      "needs_background": "light"
     },
     "output_type": "display_data"
    }
   ],
   "source": [
    "rating_count=df_clean.groupby('rating_extract')['tweet_id'].count()\n",
    "\n",
    "rating_count.plot(kind='line');\n",
    "plt.title('Ratings count')\n",
    "plt.xlabel('Rating')\n",
    "plt.ylabel('Tweet_count');"
   ]
  },
  {
   "cell_type": "markdown",
   "metadata": {},
   "source": [
    "### Insights & Conclusions:\n",
    "\n",
    "    1.The Retweet count trend is decreased from 2016 to 2017\n",
    "    2.The favroite_count is directly proportional to retweet_count, concluding that the tweets liked by people are the most retweeted tweets\n",
    "    3.Oliver ,Cooper Charlie are the most commonly named dogs\n",
    "    4.Pupper is the highest dog_stage tweeted.\n",
    "    5.Not all tweets in the data are original tweets, there are some retweets as well."
   ]
  }
 ],
 "metadata": {
  "kernelspec": {
   "display_name": "Python 3",
   "language": "python",
   "name": "python3"
  },
  "language_info": {
   "codemirror_mode": {
    "name": "ipython",
    "version": 3
   },
   "file_extension": ".py",
   "mimetype": "text/x-python",
   "name": "python",
   "nbconvert_exporter": "python",
   "pygments_lexer": "ipython3",
   "version": "3.7.6"
  }
 },
 "nbformat": 4,
 "nbformat_minor": 4
}
